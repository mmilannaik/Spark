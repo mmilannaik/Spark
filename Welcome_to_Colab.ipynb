{
  "cells": [
    {
      "cell_type": "markdown",
      "metadata": {
        "id": "view-in-github",
        "colab_type": "text"
      },
      "source": [
        "<a href=\"https://colab.research.google.com/github/mmilannaik/Spark/blob/main/Welcome_to_Colab.ipynb\" target=\"_parent\"><img src=\"https://colab.research.google.com/assets/colab-badge.svg\" alt=\"Open In Colab\"/></a>"
      ]
    },
    {
      "cell_type": "code",
      "source": [
        "!apt-get install openjdk-11-jdk-headless -qq > /dev/null\n",
        "!wget -q https://downloads.apache.org/spark/spark-3.5.6/spark-3.5.6-bin-hadoop3.tgz\n",
        "!tar xf spark-3.5.6-bin-hadoop3.tgz\n",
        "\n",
        "# spark latest version https://downloads.apache.org/spark/\n"
      ],
      "metadata": {
        "id": "ZB3_0gh8ZoBb"
      },
      "execution_count": 2,
      "outputs": []
    },
    {
      "cell_type": "code",
      "source": [
        "!pip install -q pyspark\n"
      ],
      "metadata": {
        "id": "ZWmqGsYeahnx"
      },
      "execution_count": 3,
      "outputs": []
    },
    {
      "cell_type": "code",
      "source": [
        "import os\n",
        "\n",
        "os.environ[\"JAVA_HOME\"] = \"/usr/lib/jvm/java-11-openjdk-amd64\"\n",
        "os.environ[\"SPARK_HOME\"] = \"/content/spark-3.5.6-bin-hadoop3\"\n"
      ],
      "metadata": {
        "id": "XXy-WJibZw7Q"
      },
      "execution_count": 4,
      "outputs": []
    },
    {
      "cell_type": "code",
      "source": [
        "from pyspark.sql import SparkSession\n",
        "\n",
        "spark = SparkSession.builder \\\n",
        "    .appName(\"ColabSparkDemo\") \\\n",
        "    .config(\"spark.ui.port\", \"4050\") \\\n",
        "    .getOrCreate()\n",
        "\n",
        "spark\n"
      ],
      "metadata": {
        "id": "9Jy5igNFad-W",
        "outputId": "63638729-22f0-4465-d18c-b1b928cdf021",
        "colab": {
          "base_uri": "https://localhost:8080/",
          "height": 219
        }
      },
      "execution_count": 5,
      "outputs": [
        {
          "output_type": "execute_result",
          "data": {
            "text/plain": [
              "<pyspark.sql.session.SparkSession at 0x7e0e6eb107a0>"
            ],
            "text/html": [
              "\n",
              "            <div>\n",
              "                <p><b>SparkSession - in-memory</b></p>\n",
              "                \n",
              "        <div>\n",
              "            <p><b>SparkContext</b></p>\n",
              "\n",
              "            <p><a href=\"http://6c9280097fed:4050\">Spark UI</a></p>\n",
              "\n",
              "            <dl>\n",
              "              <dt>Version</dt>\n",
              "                <dd><code>v3.5.6</code></dd>\n",
              "              <dt>Master</dt>\n",
              "                <dd><code>local[*]</code></dd>\n",
              "              <dt>AppName</dt>\n",
              "                <dd><code>ColabSparkDemo</code></dd>\n",
              "            </dl>\n",
              "        </div>\n",
              "        \n",
              "            </div>\n",
              "        "
            ]
          },
          "metadata": {},
          "execution_count": 5
        }
      ]
    },
    {
      "cell_type": "code",
      "source": [
        "print(\"Spark Version:\", spark.version)\n"
      ],
      "metadata": {
        "id": "0EQGAaGialI5",
        "outputId": "6f1b4e93-707c-4273-bcbc-0e96547b8501",
        "colab": {
          "base_uri": "https://localhost:8080/"
        }
      },
      "execution_count": 6,
      "outputs": [
        {
          "output_type": "stream",
          "name": "stdout",
          "text": [
            "Spark Version: 3.5.6\n"
          ]
        }
      ]
    },
    {
      "cell_type": "markdown",
      "source": [
        "# Spark Handson"
      ],
      "metadata": {
        "id": "6Id2gNaqa15w"
      }
    },
    {
      "cell_type": "code",
      "source": [
        "# Emp Data & Schema\n",
        "\n",
        "emp_data = [\n",
        "    [\"001\",\"101\",\"John Doe\",\"30\",\"Male\",\"50000\",\"2015-01-01\"],\n",
        "    [\"002\",\"101\",\"Jane Smith\",\"25\",\"Female\",\"45000\",\"2016-02-15\"],\n",
        "    [\"003\",\"102\",\"Bob Brown\",\"35\",\"Male\",\"55000\",\"2014-05-01\"],\n",
        "    [\"004\",\"102\",\"Alice Lee\",\"28\",\"Female\",\"48000\",\"2017-09-30\"],\n",
        "    [\"005\",\"103\",\"Jack Chan\",\"40\",\"Male\",\"60000\",\"2013-04-01\"],\n",
        "    [\"006\",\"103\",\"Jill Wong\",\"32\",\"Female\",\"52000\",\"2018-07-01\"],\n",
        "    [\"007\",\"101\",\"James Johnson\",\"42\",\"Male\",\"70000\",\"2012-03-15\"],\n",
        "    [\"008\",\"102\",\"Kate Kim\",\"29\",\"Female\",\"51000\",\"2019-10-01\"],\n",
        "    [\"009\",\"103\",\"Tom Tan\",\"33\",\"Male\",\"58000\",\"2016-06-01\"],\n",
        "    [\"010\",\"104\",\"Lisa Lee\",\"27\",\"Female\",\"47000\",\"2018-08-01\"],\n",
        "    [\"011\",\"104\",\"David Park\",\"38\",\"Male\",\"65000\",\"2015-11-01\"],\n",
        "    [\"012\",\"105\",\"Susan Chen\",\"31\",\"Female\",\"54000\",\"2017-02-15\"],\n",
        "    [\"013\",\"106\",\"Brian Kim\",\"45\",\"Male\",\"75000\",\"2011-07-01\"],\n",
        "    [\"014\",\"107\",\"Emily Lee\",\"26\",\"Female\",\"46000\",\"2019-01-01\"],\n",
        "    [\"015\",\"106\",\"Michael Lee\",\"37\",\"Male\",\"63000\",\"2014-09-30\"],\n",
        "    [\"016\",\"107\",\"Kelly Zhang\",\"30\",\"Female\",\"49000\",\"2018-04-01\"],\n",
        "    [\"017\",\"105\",\"George Wang\",\"34\",\"Male\",\"57000\",\"2016-03-15\"],\n",
        "    [\"018\",\"104\",\"Nancy Liu\",\"29\",\"Female\",\"50000\",\"2017-06-01\"],\n",
        "    [\"019\",\"103\",\"Steven Chen\",\"36\",\"Male\",\"62000\",\"2015-08-01\"],\n",
        "    [\"020\",\"102\",\"Grace Kim\",\"32\",\"Female\",\"53000\",\"2018-11-01\"]\n",
        "]\n",
        "\n",
        "emp_schema = \"employee_id string, department_id string, name string, age string, gender string, salary string, hire_date string\""
      ],
      "metadata": {
        "id": "P0_6nAvuaqWW"
      },
      "execution_count": 7,
      "outputs": []
    },
    {
      "cell_type": "code",
      "source": [
        "# create a dataframe\n",
        "emp = spark.createDataFrame(data = emp_data, schema = emp_schema)"
      ],
      "metadata": {
        "id": "7Mb9YZYKbA2l"
      },
      "execution_count": 8,
      "outputs": []
    },
    {
      "cell_type": "code",
      "source": [
        "# check the no of RDDs\n",
        "emp.rdd.getNumPartitions()"
      ],
      "metadata": {
        "id": "7kY3cZmZsfvD",
        "outputId": "737e102d-9c4d-4139-ba85-5463be0dfb95",
        "colab": {
          "base_uri": "https://localhost:8080/"
        }
      },
      "execution_count": 9,
      "outputs": [
        {
          "output_type": "execute_result",
          "data": {
            "text/plain": [
              "2"
            ]
          },
          "metadata": {},
          "execution_count": 9
        }
      ]
    },
    {
      "cell_type": "code",
      "source": [
        "# Show data(ACTION)\n",
        "emp.show()"
      ],
      "metadata": {
        "id": "wVxivf6Qsnti",
        "outputId": "3ae71a2f-a5e2-405b-d8dc-778c97539f53",
        "colab": {
          "base_uri": "https://localhost:8080/"
        }
      },
      "execution_count": 10,
      "outputs": [
        {
          "output_type": "stream",
          "name": "stdout",
          "text": [
            "+-----------+-------------+-------------+---+------+------+----------+\n",
            "|employee_id|department_id|         name|age|gender|salary| hire_date|\n",
            "+-----------+-------------+-------------+---+------+------+----------+\n",
            "|        001|          101|     John Doe| 30|  Male| 50000|2015-01-01|\n",
            "|        002|          101|   Jane Smith| 25|Female| 45000|2016-02-15|\n",
            "|        003|          102|    Bob Brown| 35|  Male| 55000|2014-05-01|\n",
            "|        004|          102|    Alice Lee| 28|Female| 48000|2017-09-30|\n",
            "|        005|          103|    Jack Chan| 40|  Male| 60000|2013-04-01|\n",
            "|        006|          103|    Jill Wong| 32|Female| 52000|2018-07-01|\n",
            "|        007|          101|James Johnson| 42|  Male| 70000|2012-03-15|\n",
            "|        008|          102|     Kate Kim| 29|Female| 51000|2019-10-01|\n",
            "|        009|          103|      Tom Tan| 33|  Male| 58000|2016-06-01|\n",
            "|        010|          104|     Lisa Lee| 27|Female| 47000|2018-08-01|\n",
            "|        011|          104|   David Park| 38|  Male| 65000|2015-11-01|\n",
            "|        012|          105|   Susan Chen| 31|Female| 54000|2017-02-15|\n",
            "|        013|          106|    Brian Kim| 45|  Male| 75000|2011-07-01|\n",
            "|        014|          107|    Emily Lee| 26|Female| 46000|2019-01-01|\n",
            "|        015|          106|  Michael Lee| 37|  Male| 63000|2014-09-30|\n",
            "|        016|          107|  Kelly Zhang| 30|Female| 49000|2018-04-01|\n",
            "|        017|          105|  George Wang| 34|  Male| 57000|2016-03-15|\n",
            "|        018|          104|    Nancy Liu| 29|Female| 50000|2017-06-01|\n",
            "|        019|          103|  Steven Chen| 36|  Male| 62000|2015-08-01|\n",
            "|        020|          102|    Grace Kim| 32|Female| 53000|2018-11-01|\n",
            "+-----------+-------------+-------------+---+------+------+----------+\n",
            "\n"
          ]
        }
      ]
    },
    {
      "cell_type": "code",
      "source": [
        "#write about transformation\n",
        "emp_final = emp.where(\"salary > 50000\")"
      ],
      "metadata": {
        "id": "k7iL4v4hsuVd"
      },
      "execution_count": 11,
      "outputs": []
    },
    {
      "cell_type": "code",
      "source": [
        "# validate the partitions\n",
        "emp_final.rdd.getNumPartitions()"
      ],
      "metadata": {
        "id": "eSYuzl5atW-5",
        "outputId": "73dea445-60fa-4b2c-e6a7-662ef0e4276c",
        "colab": {
          "base_uri": "https://localhost:8080/"
        }
      },
      "execution_count": 12,
      "outputs": [
        {
          "output_type": "execute_result",
          "data": {
            "text/plain": [
              "2"
            ]
          },
          "metadata": {},
          "execution_count": 12
        }
      ]
    },
    {
      "cell_type": "code",
      "source": [
        "emp_final.show()"
      ],
      "metadata": {
        "id": "qMeQn9ZsteRn",
        "outputId": "919695ef-bc38-4981-83be-014eaa0c1814",
        "colab": {
          "base_uri": "https://localhost:8080/"
        }
      },
      "execution_count": 13,
      "outputs": [
        {
          "output_type": "stream",
          "name": "stdout",
          "text": [
            "+-----------+-------------+-------------+---+------+------+----------+\n",
            "|employee_id|department_id|         name|age|gender|salary| hire_date|\n",
            "+-----------+-------------+-------------+---+------+------+----------+\n",
            "|        003|          102|    Bob Brown| 35|  Male| 55000|2014-05-01|\n",
            "|        005|          103|    Jack Chan| 40|  Male| 60000|2013-04-01|\n",
            "|        006|          103|    Jill Wong| 32|Female| 52000|2018-07-01|\n",
            "|        007|          101|James Johnson| 42|  Male| 70000|2012-03-15|\n",
            "|        008|          102|     Kate Kim| 29|Female| 51000|2019-10-01|\n",
            "|        009|          103|      Tom Tan| 33|  Male| 58000|2016-06-01|\n",
            "|        011|          104|   David Park| 38|  Male| 65000|2015-11-01|\n",
            "|        012|          105|   Susan Chen| 31|Female| 54000|2017-02-15|\n",
            "|        013|          106|    Brian Kim| 45|  Male| 75000|2011-07-01|\n",
            "|        015|          106|  Michael Lee| 37|  Male| 63000|2014-09-30|\n",
            "|        017|          105|  George Wang| 34|  Male| 57000|2016-03-15|\n",
            "|        019|          103|  Steven Chen| 36|  Male| 62000|2015-08-01|\n",
            "|        020|          102|    Grace Kim| 32|Female| 53000|2018-11-01|\n",
            "+-----------+-------------+-------------+---+------+------+----------+\n",
            "\n"
          ]
        }
      ]
    },
    {
      "cell_type": "markdown",
      "source": [
        "# Transformation-Part1"
      ],
      "metadata": {
        "id": "uOVW-O_ht0a1"
      }
    },
    {
      "cell_type": "code",
      "source": [
        "#schema for emop\n",
        "# this is the native way of storing schema\n",
        "emp.schema"
      ],
      "metadata": {
        "id": "Jud6swmptghL",
        "outputId": "184ef3b8-18ad-4d99-f899-e8c4f0b34000",
        "colab": {
          "base_uri": "https://localhost:8080/"
        }
      },
      "execution_count": 14,
      "outputs": [
        {
          "output_type": "execute_result",
          "data": {
            "text/plain": [
              "StructType([StructField('employee_id', StringType(), True), StructField('department_id', StringType(), True), StructField('name', StringType(), True), StructField('age', StringType(), True), StructField('gender', StringType(), True), StructField('salary', StringType(), True), StructField('hire_date', StringType(), True)])"
            ]
          },
          "metadata": {},
          "execution_count": 14
        }
      ]
    },
    {
      "cell_type": "code",
      "source": [
        "# schema for emp\n",
        "emp.printSchema()"
      ],
      "metadata": {
        "id": "Ko--6iqcu9k4",
        "outputId": "6ae24096-4229-4588-ca38-a3ff792204ad",
        "colab": {
          "base_uri": "https://localhost:8080/"
        }
      },
      "execution_count": 15,
      "outputs": [
        {
          "output_type": "stream",
          "name": "stdout",
          "text": [
            "root\n",
            " |-- employee_id: string (nullable = true)\n",
            " |-- department_id: string (nullable = true)\n",
            " |-- name: string (nullable = true)\n",
            " |-- age: string (nullable = true)\n",
            " |-- gender: string (nullable = true)\n",
            " |-- salary: string (nullable = true)\n",
            " |-- hire_date: string (nullable = true)\n",
            "\n"
          ]
        }
      ]
    },
    {
      "cell_type": "code",
      "source": [
        "# small example for schema\n",
        "from pyspark.sql.types import StructType,StructField,StringType,IntegerType\n",
        "schema_string = \"name string,age int\"\n",
        "\n",
        "schema_spark = StructType([\n",
        "    StructField(\"name\",StringType(),True),\n",
        "    StructField(\"age\",IntegerType(),True)\n",
        "])"
      ],
      "metadata": {
        "id": "mSmvPeDmA0IK"
      },
      "execution_count": 16,
      "outputs": []
    },
    {
      "cell_type": "code",
      "source": [
        "# columns and expression\n",
        "from pyspark.sql.functions import col,expr\n",
        "emp.salary"
      ],
      "metadata": {
        "id": "myE0xkveBzkG",
        "outputId": "cc6e3c54-6f7d-457a-802f-7e98c0f17e93",
        "colab": {
          "base_uri": "https://localhost:8080/"
        }
      },
      "execution_count": 17,
      "outputs": [
        {
          "output_type": "execute_result",
          "data": {
            "text/plain": [
              "Column<'salary'>"
            ]
          },
          "metadata": {},
          "execution_count": 17
        }
      ]
    },
    {
      "cell_type": "code",
      "source": [
        "emp[\"salary\"]"
      ],
      "metadata": {
        "id": "-jHbG-DzCM0k",
        "outputId": "ed94ef35-1961-4c33-8eb3-22d3afa4c3e9",
        "colab": {
          "base_uri": "https://localhost:8080/"
        }
      },
      "execution_count": 18,
      "outputs": [
        {
          "output_type": "execute_result",
          "data": {
            "text/plain": [
              "Column<'salary'>"
            ]
          },
          "metadata": {},
          "execution_count": 18
        }
      ]
    },
    {
      "cell_type": "code",
      "source": [
        "# select columns\n",
        "emp_filtered = emp.select(col(\"employee_id\"),expr(\"name\"),emp.age,emp.salary)"
      ],
      "metadata": {
        "id": "1toYQ2GXCOyg"
      },
      "execution_count": 19,
      "outputs": []
    },
    {
      "cell_type": "code",
      "source": [
        "# show actions\n",
        "emp_filtered.show()"
      ],
      "metadata": {
        "id": "ZyTl-3ziDIFB",
        "outputId": "d7502fe2-8d3e-4fe5-c1f5-19ae278eb9be",
        "colab": {
          "base_uri": "https://localhost:8080/"
        }
      },
      "execution_count": 20,
      "outputs": [
        {
          "output_type": "stream",
          "name": "stdout",
          "text": [
            "+-----------+-------------+---+------+\n",
            "|employee_id|         name|age|salary|\n",
            "+-----------+-------------+---+------+\n",
            "|        001|     John Doe| 30| 50000|\n",
            "|        002|   Jane Smith| 25| 45000|\n",
            "|        003|    Bob Brown| 35| 55000|\n",
            "|        004|    Alice Lee| 28| 48000|\n",
            "|        005|    Jack Chan| 40| 60000|\n",
            "|        006|    Jill Wong| 32| 52000|\n",
            "|        007|James Johnson| 42| 70000|\n",
            "|        008|     Kate Kim| 29| 51000|\n",
            "|        009|      Tom Tan| 33| 58000|\n",
            "|        010|     Lisa Lee| 27| 47000|\n",
            "|        011|   David Park| 38| 65000|\n",
            "|        012|   Susan Chen| 31| 54000|\n",
            "|        013|    Brian Kim| 45| 75000|\n",
            "|        014|    Emily Lee| 26| 46000|\n",
            "|        015|  Michael Lee| 37| 63000|\n",
            "|        016|  Kelly Zhang| 30| 49000|\n",
            "|        017|  George Wang| 34| 57000|\n",
            "|        018|    Nancy Liu| 29| 50000|\n",
            "|        019|  Steven Chen| 36| 62000|\n",
            "|        020|    Grace Kim| 32| 53000|\n",
            "+-----------+-------------+---+------+\n",
            "\n"
          ]
        }
      ]
    },
    {
      "cell_type": "code",
      "source": [
        "#using expr for select\n",
        "# select employee_id\n",
        "emp_casted = emp_filtered.select(expr(\"employee_id as emp_id\"), emp.name,expr(\"cast(age as int) as age\"),emp.salary)\n"
      ],
      "metadata": {
        "id": "YiSULa-_EYvv"
      },
      "execution_count": 21,
      "outputs": []
    },
    {
      "cell_type": "code",
      "source": [
        "# show action\n",
        "emp_casted.show()"
      ],
      "metadata": {
        "id": "wLcvtiwUFB4_",
        "outputId": "99159aa0-df30-4f18-86fe-c42764318a58",
        "colab": {
          "base_uri": "https://localhost:8080/"
        }
      },
      "execution_count": 22,
      "outputs": [
        {
          "output_type": "stream",
          "name": "stdout",
          "text": [
            "+------+-------------+---+------+\n",
            "|emp_id|         name|age|salary|\n",
            "+------+-------------+---+------+\n",
            "|   001|     John Doe| 30| 50000|\n",
            "|   002|   Jane Smith| 25| 45000|\n",
            "|   003|    Bob Brown| 35| 55000|\n",
            "|   004|    Alice Lee| 28| 48000|\n",
            "|   005|    Jack Chan| 40| 60000|\n",
            "|   006|    Jill Wong| 32| 52000|\n",
            "|   007|James Johnson| 42| 70000|\n",
            "|   008|     Kate Kim| 29| 51000|\n",
            "|   009|      Tom Tan| 33| 58000|\n",
            "|   010|     Lisa Lee| 27| 47000|\n",
            "|   011|   David Park| 38| 65000|\n",
            "|   012|   Susan Chen| 31| 54000|\n",
            "|   013|    Brian Kim| 45| 75000|\n",
            "|   014|    Emily Lee| 26| 46000|\n",
            "|   015|  Michael Lee| 37| 63000|\n",
            "|   016|  Kelly Zhang| 30| 49000|\n",
            "|   017|  George Wang| 34| 57000|\n",
            "|   018|    Nancy Liu| 29| 50000|\n",
            "|   019|  Steven Chen| 36| 62000|\n",
            "|   020|    Grace Kim| 32| 53000|\n",
            "+------+-------------+---+------+\n",
            "\n"
          ]
        }
      ]
    },
    {
      "cell_type": "code",
      "source": [
        "#show schema\n",
        "emp_casted.printSchema()"
      ],
      "metadata": {
        "id": "_uw5NpYSFGB2",
        "outputId": "22e264fe-0c0b-4812-9d4c-0f36ea3fbc5b",
        "colab": {
          "base_uri": "https://localhost:8080/"
        }
      },
      "execution_count": 23,
      "outputs": [
        {
          "output_type": "stream",
          "name": "stdout",
          "text": [
            "root\n",
            " |-- emp_id: string (nullable = true)\n",
            " |-- name: string (nullable = true)\n",
            " |-- age: integer (nullable = true)\n",
            " |-- salary: string (nullable = true)\n",
            "\n"
          ]
        }
      ]
    },
    {
      "cell_type": "code",
      "source": [
        "# use of selectExpr\n",
        "emp_casted_1 = emp_filtered.selectExpr(\"employee_id as emp_id\",\"name\",\"cast(age as int) as age\",\"salary\")"
      ],
      "metadata": {
        "id": "Fvf8CLqpFY57"
      },
      "execution_count": 24,
      "outputs": []
    },
    {
      "cell_type": "code",
      "source": [
        "emp_casted_1.show()"
      ],
      "metadata": {
        "id": "ZyUaqXSOHrfl",
        "outputId": "babf7f22-4793-4918-c932-06d15131cdf5",
        "colab": {
          "base_uri": "https://localhost:8080/"
        }
      },
      "execution_count": 25,
      "outputs": [
        {
          "output_type": "stream",
          "name": "stdout",
          "text": [
            "+------+-------------+---+------+\n",
            "|emp_id|         name|age|salary|\n",
            "+------+-------------+---+------+\n",
            "|   001|     John Doe| 30| 50000|\n",
            "|   002|   Jane Smith| 25| 45000|\n",
            "|   003|    Bob Brown| 35| 55000|\n",
            "|   004|    Alice Lee| 28| 48000|\n",
            "|   005|    Jack Chan| 40| 60000|\n",
            "|   006|    Jill Wong| 32| 52000|\n",
            "|   007|James Johnson| 42| 70000|\n",
            "|   008|     Kate Kim| 29| 51000|\n",
            "|   009|      Tom Tan| 33| 58000|\n",
            "|   010|     Lisa Lee| 27| 47000|\n",
            "|   011|   David Park| 38| 65000|\n",
            "|   012|   Susan Chen| 31| 54000|\n",
            "|   013|    Brian Kim| 45| 75000|\n",
            "|   014|    Emily Lee| 26| 46000|\n",
            "|   015|  Michael Lee| 37| 63000|\n",
            "|   016|  Kelly Zhang| 30| 49000|\n",
            "|   017|  George Wang| 34| 57000|\n",
            "|   018|    Nancy Liu| 29| 50000|\n",
            "|   019|  Steven Chen| 36| 62000|\n",
            "|   020|    Grace Kim| 32| 53000|\n",
            "+------+-------------+---+------+\n",
            "\n"
          ]
        }
      ]
    },
    {
      "cell_type": "code",
      "source": [
        "# filter age >30\n",
        "emp_final = emp_casted.select(\"emp_id\",\"name\",\"age\",\"salary\").where(\"age > 30\")"
      ],
      "metadata": {
        "id": "qmOOe7SXHtAt"
      },
      "execution_count": 26,
      "outputs": []
    },
    {
      "cell_type": "code",
      "source": [
        "emp_final.show()"
      ],
      "metadata": {
        "id": "kfd915ujIAgo",
        "outputId": "88d0baf2-48f3-4baf-ac2f-7eeda994a1a9",
        "colab": {
          "base_uri": "https://localhost:8080/"
        }
      },
      "execution_count": 27,
      "outputs": [
        {
          "output_type": "stream",
          "name": "stdout",
          "text": [
            "+------+-------------+---+------+\n",
            "|emp_id|         name|age|salary|\n",
            "+------+-------------+---+------+\n",
            "|   003|    Bob Brown| 35| 55000|\n",
            "|   005|    Jack Chan| 40| 60000|\n",
            "|   006|    Jill Wong| 32| 52000|\n",
            "|   007|James Johnson| 42| 70000|\n",
            "|   009|      Tom Tan| 33| 58000|\n",
            "|   011|   David Park| 38| 65000|\n",
            "|   012|   Susan Chen| 31| 54000|\n",
            "|   013|    Brian Kim| 45| 75000|\n",
            "|   015|  Michael Lee| 37| 63000|\n",
            "|   017|  George Wang| 34| 57000|\n",
            "|   019|  Steven Chen| 36| 62000|\n",
            "|   020|    Grace Kim| 32| 53000|\n",
            "+------+-------------+---+------+\n",
            "\n"
          ]
        }
      ]
    },
    {
      "cell_type": "code",
      "source": [
        "#write back\n",
        "emp_final.write.format(\"csv\").save( \"emp.csv\")"
      ],
      "metadata": {
        "id": "2tjqxqeGIB6K"
      },
      "execution_count": 28,
      "outputs": []
    },
    {
      "cell_type": "code",
      "source": [
        "#Bonus Tip\n",
        "schema_str = \"name string, age int\"\n",
        "from pyspark.sql.types import _parse_datatype_string\n",
        "\n",
        "schema_spark = _parse_datatype_string(schema_str)\n",
        "schema_spark"
      ],
      "metadata": {
        "id": "NQk78eWJPp75",
        "outputId": "e32e3e59-aff8-4c0f-b494-07a22559a0ec",
        "colab": {
          "base_uri": "https://localhost:8080/"
        }
      },
      "execution_count": 31,
      "outputs": [
        {
          "output_type": "execute_result",
          "data": {
            "text/plain": [
              "StructType([StructField('name', StringType(), True), StructField('age', IntegerType(), True)])"
            ]
          },
          "metadata": {},
          "execution_count": 31
        }
      ]
    },
    {
      "cell_type": "markdown",
      "source": [
        "# Transformation P2"
      ],
      "metadata": {
        "id": "BhbwwDHbQetB"
      }
    },
    {
      "cell_type": "code",
      "source": [
        "emp.printSchema()"
      ],
      "metadata": {
        "id": "6QORm71zP3UD",
        "outputId": "24dac947-89fb-401d-9ca4-d231832000df",
        "colab": {
          "base_uri": "https://localhost:8080/"
        }
      },
      "execution_count": 32,
      "outputs": [
        {
          "output_type": "stream",
          "name": "stdout",
          "text": [
            "root\n",
            " |-- employee_id: string (nullable = true)\n",
            " |-- department_id: string (nullable = true)\n",
            " |-- name: string (nullable = true)\n",
            " |-- age: string (nullable = true)\n",
            " |-- gender: string (nullable = true)\n",
            " |-- salary: string (nullable = true)\n",
            " |-- hire_date: string (nullable = true)\n",
            "\n"
          ]
        }
      ]
    },
    {
      "cell_type": "code",
      "source": [
        "# cast columns\n",
        "from pyspark.sql.functions import col,cast\n",
        "\n",
        "emp_casted = emp.select(\"employee_id\",\"name\",\"age\",col(\"salary\").cast(\"double\"))\n"
      ],
      "metadata": {
        "id": "r50TVqr1QmDN"
      },
      "execution_count": 33,
      "outputs": []
    },
    {
      "cell_type": "code",
      "source": [
        "emp_casted.printSchema()"
      ],
      "metadata": {
        "id": "Rkc1EgEWSBUP",
        "outputId": "eb8f9711-26ee-47c7-e48c-009b977e067a",
        "colab": {
          "base_uri": "https://localhost:8080/"
        }
      },
      "execution_count": 34,
      "outputs": [
        {
          "output_type": "stream",
          "name": "stdout",
          "text": [
            "root\n",
            " |-- employee_id: string (nullable = true)\n",
            " |-- name: string (nullable = true)\n",
            " |-- age: string (nullable = true)\n",
            " |-- salary: double (nullable = true)\n",
            "\n"
          ]
        }
      ]
    },
    {
      "cell_type": "code",
      "source": [
        "# Adding columns\n",
        "emp_taxed = emp_casted.withColumn(\"tax\",col(\"salary\")*0.2)"
      ],
      "metadata": {
        "id": "IV3A6kXHSDNh"
      },
      "execution_count": 35,
      "outputs": []
    },
    {
      "cell_type": "code",
      "source": [
        "emp_taxed.show()"
      ],
      "metadata": {
        "id": "VBfWkmfqXGyH",
        "outputId": "65dc6b12-a0c9-4710-ef59-b853e8edfab6",
        "colab": {
          "base_uri": "https://localhost:8080/"
        }
      },
      "execution_count": 36,
      "outputs": [
        {
          "output_type": "stream",
          "name": "stdout",
          "text": [
            "+-----------+-------------+---+-------+-------+\n",
            "|employee_id|         name|age| salary|    tax|\n",
            "+-----------+-------------+---+-------+-------+\n",
            "|        001|     John Doe| 30|50000.0|10000.0|\n",
            "|        002|   Jane Smith| 25|45000.0| 9000.0|\n",
            "|        003|    Bob Brown| 35|55000.0|11000.0|\n",
            "|        004|    Alice Lee| 28|48000.0| 9600.0|\n",
            "|        005|    Jack Chan| 40|60000.0|12000.0|\n",
            "|        006|    Jill Wong| 32|52000.0|10400.0|\n",
            "|        007|James Johnson| 42|70000.0|14000.0|\n",
            "|        008|     Kate Kim| 29|51000.0|10200.0|\n",
            "|        009|      Tom Tan| 33|58000.0|11600.0|\n",
            "|        010|     Lisa Lee| 27|47000.0| 9400.0|\n",
            "|        011|   David Park| 38|65000.0|13000.0|\n",
            "|        012|   Susan Chen| 31|54000.0|10800.0|\n",
            "|        013|    Brian Kim| 45|75000.0|15000.0|\n",
            "|        014|    Emily Lee| 26|46000.0| 9200.0|\n",
            "|        015|  Michael Lee| 37|63000.0|12600.0|\n",
            "|        016|  Kelly Zhang| 30|49000.0| 9800.0|\n",
            "|        017|  George Wang| 34|57000.0|11400.0|\n",
            "|        018|    Nancy Liu| 29|50000.0|10000.0|\n",
            "|        019|  Steven Chen| 36|62000.0|12400.0|\n",
            "|        020|    Grace Kim| 32|53000.0|10600.0|\n",
            "+-----------+-------------+---+-------+-------+\n",
            "\n"
          ]
        }
      ]
    },
    {
      "cell_type": "code",
      "source": [
        "#literals\n",
        "# add new columsn with static value\n",
        "from pyspark.sql.functions import lit\n",
        "\n",
        "emp_new_cols = emp_taxed.withColumn(\"ColumnOne\",lit(1)).withColumn(\"columntwo\",lit(\"three\"))"
      ],
      "metadata": {
        "id": "d8Jul9p_XIvZ"
      },
      "execution_count": 37,
      "outputs": []
    },
    {
      "cell_type": "code",
      "source": [
        "emp_new_cols.show()"
      ],
      "metadata": {
        "id": "tuluP3HRX2RL",
        "outputId": "e6e03007-8f2d-47f5-bc4f-0e97c02e25ee",
        "colab": {
          "base_uri": "https://localhost:8080/"
        }
      },
      "execution_count": 38,
      "outputs": [
        {
          "output_type": "stream",
          "name": "stdout",
          "text": [
            "+-----------+-------------+---+-------+-------+---------+---------+\n",
            "|employee_id|         name|age| salary|    tax|ColumnOne|columntwo|\n",
            "+-----------+-------------+---+-------+-------+---------+---------+\n",
            "|        001|     John Doe| 30|50000.0|10000.0|        1|    three|\n",
            "|        002|   Jane Smith| 25|45000.0| 9000.0|        1|    three|\n",
            "|        003|    Bob Brown| 35|55000.0|11000.0|        1|    three|\n",
            "|        004|    Alice Lee| 28|48000.0| 9600.0|        1|    three|\n",
            "|        005|    Jack Chan| 40|60000.0|12000.0|        1|    three|\n",
            "|        006|    Jill Wong| 32|52000.0|10400.0|        1|    three|\n",
            "|        007|James Johnson| 42|70000.0|14000.0|        1|    three|\n",
            "|        008|     Kate Kim| 29|51000.0|10200.0|        1|    three|\n",
            "|        009|      Tom Tan| 33|58000.0|11600.0|        1|    three|\n",
            "|        010|     Lisa Lee| 27|47000.0| 9400.0|        1|    three|\n",
            "|        011|   David Park| 38|65000.0|13000.0|        1|    three|\n",
            "|        012|   Susan Chen| 31|54000.0|10800.0|        1|    three|\n",
            "|        013|    Brian Kim| 45|75000.0|15000.0|        1|    three|\n",
            "|        014|    Emily Lee| 26|46000.0| 9200.0|        1|    three|\n",
            "|        015|  Michael Lee| 37|63000.0|12600.0|        1|    three|\n",
            "|        016|  Kelly Zhang| 30|49000.0| 9800.0|        1|    three|\n",
            "|        017|  George Wang| 34|57000.0|11400.0|        1|    three|\n",
            "|        018|    Nancy Liu| 29|50000.0|10000.0|        1|    three|\n",
            "|        019|  Steven Chen| 36|62000.0|12400.0|        1|    three|\n",
            "|        020|    Grace Kim| 32|53000.0|10600.0|        1|    three|\n",
            "+-----------+-------------+---+-------+-------+---------+---------+\n",
            "\n"
          ]
        }
      ]
    },
    {
      "cell_type": "code",
      "source": [
        "# renaming cols\n",
        "emp_1 = emp_new_cols.withColumnRenamed(\"employee_id\",\"emp_id\")"
      ],
      "metadata": {
        "id": "BLHf2d0GX4Cs"
      },
      "execution_count": 39,
      "outputs": []
    },
    {
      "cell_type": "code",
      "source": [
        "emp_1.show()"
      ],
      "metadata": {
        "id": "h5A4OXf3YfU9",
        "outputId": "955ea4b6-37f2-4474-cf5e-c2c1f4d8192b",
        "colab": {
          "base_uri": "https://localhost:8080/"
        }
      },
      "execution_count": 41,
      "outputs": [
        {
          "output_type": "stream",
          "name": "stdout",
          "text": [
            "+------+-------------+---+-------+-------+---------+---------+\n",
            "|emp_id|         name|age| salary|    tax|ColumnOne|columntwo|\n",
            "+------+-------------+---+-------+-------+---------+---------+\n",
            "|   001|     John Doe| 30|50000.0|10000.0|        1|    three|\n",
            "|   002|   Jane Smith| 25|45000.0| 9000.0|        1|    three|\n",
            "|   003|    Bob Brown| 35|55000.0|11000.0|        1|    three|\n",
            "|   004|    Alice Lee| 28|48000.0| 9600.0|        1|    three|\n",
            "|   005|    Jack Chan| 40|60000.0|12000.0|        1|    three|\n",
            "|   006|    Jill Wong| 32|52000.0|10400.0|        1|    three|\n",
            "|   007|James Johnson| 42|70000.0|14000.0|        1|    three|\n",
            "|   008|     Kate Kim| 29|51000.0|10200.0|        1|    three|\n",
            "|   009|      Tom Tan| 33|58000.0|11600.0|        1|    three|\n",
            "|   010|     Lisa Lee| 27|47000.0| 9400.0|        1|    three|\n",
            "|   011|   David Park| 38|65000.0|13000.0|        1|    three|\n",
            "|   012|   Susan Chen| 31|54000.0|10800.0|        1|    three|\n",
            "|   013|    Brian Kim| 45|75000.0|15000.0|        1|    three|\n",
            "|   014|    Emily Lee| 26|46000.0| 9200.0|        1|    three|\n",
            "|   015|  Michael Lee| 37|63000.0|12600.0|        1|    three|\n",
            "|   016|  Kelly Zhang| 30|49000.0| 9800.0|        1|    three|\n",
            "|   017|  George Wang| 34|57000.0|11400.0|        1|    three|\n",
            "|   018|    Nancy Liu| 29|50000.0|10000.0|        1|    three|\n",
            "|   019|  Steven Chen| 36|62000.0|12400.0|        1|    three|\n",
            "|   020|    Grace Kim| 32|53000.0|10600.0|        1|    three|\n",
            "+------+-------------+---+-------+-------+---------+---------+\n",
            "\n"
          ]
        }
      ]
    },
    {
      "cell_type": "code",
      "source": [
        "# column names with spaces\n",
        "emp_2 = emp_new_cols.withColumnRenamed(\"columntwo\",\"column two\")"
      ],
      "metadata": {
        "id": "IEDtUd4PYgo-"
      },
      "execution_count": 42,
      "outputs": []
    },
    {
      "cell_type": "code",
      "source": [
        "emp_2.show()"
      ],
      "metadata": {
        "id": "mLRf_JQ-YwWG",
        "outputId": "ab7d5aef-f3de-407e-98f2-bbaac665c28f",
        "colab": {
          "base_uri": "https://localhost:8080/"
        }
      },
      "execution_count": 43,
      "outputs": [
        {
          "output_type": "stream",
          "name": "stdout",
          "text": [
            "+-----------+-------------+---+-------+-------+---------+----------+\n",
            "|employee_id|         name|age| salary|    tax|ColumnOne|column two|\n",
            "+-----------+-------------+---+-------+-------+---------+----------+\n",
            "|        001|     John Doe| 30|50000.0|10000.0|        1|     three|\n",
            "|        002|   Jane Smith| 25|45000.0| 9000.0|        1|     three|\n",
            "|        003|    Bob Brown| 35|55000.0|11000.0|        1|     three|\n",
            "|        004|    Alice Lee| 28|48000.0| 9600.0|        1|     three|\n",
            "|        005|    Jack Chan| 40|60000.0|12000.0|        1|     three|\n",
            "|        006|    Jill Wong| 32|52000.0|10400.0|        1|     three|\n",
            "|        007|James Johnson| 42|70000.0|14000.0|        1|     three|\n",
            "|        008|     Kate Kim| 29|51000.0|10200.0|        1|     three|\n",
            "|        009|      Tom Tan| 33|58000.0|11600.0|        1|     three|\n",
            "|        010|     Lisa Lee| 27|47000.0| 9400.0|        1|     three|\n",
            "|        011|   David Park| 38|65000.0|13000.0|        1|     three|\n",
            "|        012|   Susan Chen| 31|54000.0|10800.0|        1|     three|\n",
            "|        013|    Brian Kim| 45|75000.0|15000.0|        1|     three|\n",
            "|        014|    Emily Lee| 26|46000.0| 9200.0|        1|     three|\n",
            "|        015|  Michael Lee| 37|63000.0|12600.0|        1|     three|\n",
            "|        016|  Kelly Zhang| 30|49000.0| 9800.0|        1|     three|\n",
            "|        017|  George Wang| 34|57000.0|11400.0|        1|     three|\n",
            "|        018|    Nancy Liu| 29|50000.0|10000.0|        1|     three|\n",
            "|        019|  Steven Chen| 36|62000.0|12400.0|        1|     three|\n",
            "|        020|    Grace Kim| 32|53000.0|10600.0|        1|     three|\n",
            "+-----------+-------------+---+-------+-------+---------+----------+\n",
            "\n"
          ]
        }
      ]
    },
    {
      "cell_type": "code",
      "source": [],
      "metadata": {
        "id": "3royYtHXYxqF"
      },
      "execution_count": null,
      "outputs": []
    }
  ],
  "metadata": {
    "colab": {
      "name": "Welcome to Colab",
      "toc_visible": true,
      "provenance": [],
      "include_colab_link": true
    },
    "kernelspec": {
      "display_name": "Python 3",
      "name": "python3"
    }
  },
  "nbformat": 4,
  "nbformat_minor": 0
}